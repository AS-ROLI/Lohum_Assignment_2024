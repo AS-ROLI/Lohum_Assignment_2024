{
 "cells": [
  {
   "cell_type": "code",
   "execution_count": 2,
   "id": "1740b469",
   "metadata": {},
   "outputs": [
    {
     "name": "stdout",
     "output_type": "stream",
     "text": [
      "Area under the graph (Trapezoidal Rule): 2912.0\n",
      "Area under the graph (Simpson's Rule): 2933.333333333333\n"
     ]
    },
    {
     "name": "stderr",
     "output_type": "stream",
     "text": [
      "C:\\Users\\hp\\AppData\\Local\\Temp\\ipykernel_1596\\1599429917.py:12: DeprecationWarning: 'scipy.integrate.simps' is deprecated in favour of 'scipy.integrate.simpson' and will be removed in SciPy 1.14.0\n",
      "  area_simps = simps(satellites_launched, years)\n"
     ]
    }
   ],
   "source": [
    "\n",
    "## Code for Calculating the Communication Satellites\n",
    "\n",
    "import numpy as np\n",
    "from scipy.integrate import simps\n",
    "\n",
    "# Example Data (Replace these with actual values from the graph)\n",
    "years = np.array([2080, 2082,2084,2086,2088,2090,2092,2094,2096,2098, 2100,2102,2104])  # X-axis values\n",
    "satellites_launched = np.array([100, 120,120,132,120,120,108,108,98,120,144,144,144])  # Y-axis values\n",
    "\n",
    "# Calculate Area using Trapezoidal Rule\n",
    "area_trapz = np.trapz(satellites_launched, years)\n",
    "\n",
    "# Calculate Area using Simpson's Rule\n",
    "area_simps = simps(satellites_launched, years)\n",
    "\n",
    "print(f\"Area under the graph (Trapezoidal Rule): {area_trapz}\")\n",
    "print(f\"Area under the graph (Simpson's Rule): {area_simps}\")\n"
   ]
  },
  {
   "cell_type": "markdown",
   "id": "2583f860",
   "metadata": {},
   "source": [
    "## Code for Calculating the Earth Observation Satellites\n"
   ]
  },
  {
   "cell_type": "code",
   "execution_count": 3,
   "id": "39b153ed",
   "metadata": {},
   "outputs": [
    {
     "name": "stdout",
     "output_type": "stream",
     "text": [
      "Area under the graph (Trapezoidal Rule): 982.0\n",
      "Area under the graph (Simpson's Rule): 982.6666666666665\n"
     ]
    },
    {
     "name": "stderr",
     "output_type": "stream",
     "text": [
      "C:\\Users\\hp\\AppData\\Local\\Temp\\ipykernel_1596\\1492412343.py:14: DeprecationWarning: 'scipy.integrate.simps' is deprecated in favour of 'scipy.integrate.simpson' and will be removed in SciPy 1.14.0\n",
      "  area_simps = simps(satellites_launched, years)\n"
     ]
    }
   ],
   "source": [
    "## Code for Calculating the Earth Observation Satellites\n",
    "\n",
    "import numpy as np\n",
    "from scipy.integrate import simps\n",
    "\n",
    "# Example Data (Replace these with actual values from the graph)\n",
    "years = np.array([2080, 2082,2084,2086,2088,2090,2092,2094,2096,2098, 2100,2102,2104])  # X-axis values\n",
    "satellites_launched = np.array([50, 55,50,40,32,32,30,30,27,35,50,54,62])  # Y-axis values\n",
    "\n",
    "# Calculate Area using Trapezoidal Rule\n",
    "area_trapz = np.trapz(satellites_launched, years)\n",
    "\n",
    "# Calculate Area using Simpson's Rule\n",
    "area_simps = simps(satellites_launched, years)\n",
    "\n",
    "print(f\"Area under the graph (Trapezoidal Rule): {area_trapz}\")\n",
    "print(f\"Area under the graph (Simpson's Rule): {area_simps}\")"
   ]
  },
  {
   "cell_type": "markdown",
   "id": "24f67629",
   "metadata": {},
   "source": [
    "## No of  Communication Satellites launched till 2088"
   ]
  },
  {
   "cell_type": "code",
   "execution_count": 4,
   "id": "60f050f4",
   "metadata": {},
   "outputs": [
    {
     "name": "stdout",
     "output_type": "stream",
     "text": [
      "Area under the graph (Trapezoidal Rule): 964.0\n",
      "Area under the graph (Simpson's Rule): 978.6666666666666\n"
     ]
    },
    {
     "name": "stderr",
     "output_type": "stream",
     "text": [
      "C:\\Users\\hp\\AppData\\Local\\Temp\\ipykernel_1596\\3459549158.py:14: DeprecationWarning: 'scipy.integrate.simps' is deprecated in favour of 'scipy.integrate.simpson' and will be removed in SciPy 1.14.0\n",
      "  area_simps = simps(satellites_launched, years)\n"
     ]
    }
   ],
   "source": [
    "## Code for Calculating the Communication Satellites\n",
    "\n",
    "import numpy as np\n",
    "from scipy.integrate import simps\n",
    "\n",
    "# Example Data (Replace these with actual values from the graph)\n",
    "years = np.array([2080, 2082,2084,2086,2088])  # X-axis values\n",
    "satellites_launched = np.array([100, 120,120,132,120])  # Y-axis values\n",
    "\n",
    "# Calculate Area using Trapezoidal Rule\n",
    "area_trapz = np.trapz(satellites_launched, years)\n",
    "\n",
    "# Calculate Area using Simpson's Rule\n",
    "area_simps = simps(satellites_launched, years)\n",
    "\n",
    "print(f\"Area under the graph (Trapezoidal Rule): {area_trapz}\")\n",
    "print(f\"Area under the graph (Simpson's Rule): {area_simps}\")"
   ]
  },
  {
   "cell_type": "markdown",
   "id": "9ea1e2c3",
   "metadata": {},
   "source": [
    "## No of  Observation Satellites launched before 2096"
   ]
  },
  {
   "cell_type": "code",
   "execution_count": 5,
   "id": "98d55d29",
   "metadata": {},
   "outputs": [
    {
     "name": "stdout",
     "output_type": "stream",
     "text": [
      "Area under the graph (Trapezoidal Rule): 615.0\n",
      "Area under the graph (Simpson's Rule): 619.3333333333333\n"
     ]
    },
    {
     "name": "stderr",
     "output_type": "stream",
     "text": [
      "C:\\Users\\hp\\AppData\\Local\\Temp\\ipykernel_1596\\3185171092.py:14: DeprecationWarning: 'scipy.integrate.simps' is deprecated in favour of 'scipy.integrate.simpson' and will be removed in SciPy 1.14.0\n",
      "  area_simps = simps(satellites_launched, years)\n"
     ]
    }
   ],
   "source": [
    "## Code for Calculating the Earth Observation Satellites\n",
    "\n",
    "import numpy as np\n",
    "from scipy.integrate import simps\n",
    "\n",
    "# Example Data (Replace these with actual values from the graph)\n",
    "years = np.array([2080, 2082,2084,2086,2088,2090,2092,2094,2096])  # X-axis values\n",
    "satellites_launched = np.array([50, 55,50,40,32,32,30,30,27])  # Y-axis values\n",
    "\n",
    "# Calculate Area using Trapezoidal Rule\n",
    "area_trapz = np.trapz(satellites_launched, years)\n",
    "\n",
    "# Calculate Area using Simpson's Rule\n",
    "area_simps = simps(satellites_launched, years)\n",
    "\n",
    "print(f\"Area under the graph (Trapezoidal Rule): {area_trapz}\")\n",
    "print(f\"Area under the graph (Simpson's Rule): {area_simps}\")"
   ]
  },
  {
   "cell_type": "code",
   "execution_count": null,
   "id": "c7d94a96",
   "metadata": {},
   "outputs": [],
   "source": []
  }
 ],
 "metadata": {
  "kernelspec": {
   "display_name": "Python 3",
   "language": "python",
   "name": "python3"
  },
  "language_info": {
   "codemirror_mode": {
    "name": "ipython",
    "version": 3
   },
   "file_extension": ".py",
   "mimetype": "text/x-python",
   "name": "python",
   "nbconvert_exporter": "python",
   "pygments_lexer": "ipython3",
   "version": "3.11.3"
  }
 },
 "nbformat": 4,
 "nbformat_minor": 5
}
